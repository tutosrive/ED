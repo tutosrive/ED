{
  "nbformat": 4,
  "nbformat_minor": 0,
  "metadata": {
    "colab": {
      "provenance": [],
      "collapsed_sections": [
        "2pPinSyTS_jW",
        "BykjtdgFLmxU",
        "eDMowg3zSOpS"
      ],
      "authorship_tag": "ABX9TyOATwejAyy2yf4BiY1z6vyI",
      "include_colab_link": true
    },
    "kernelspec": {
      "name": "python3",
      "display_name": "Python 3"
    },
    "language_info": {
      "name": "python"
    }
  },
  "cells": [
    {
      "cell_type": "markdown",
      "metadata": {
        "id": "view-in-github",
        "colab_type": "text"
      },
      "source": [
        "<a href=\"https://colab.research.google.com/github/tutosrive/ED/blob/from_colab/workshops/colab/workshop_1_ED.ipynb\" target=\"_parent\"><img src=\"https://colab.research.google.com/assets/colab-badge.svg\" alt=\"Open In Colab\"/></a>"
      ]
    },
    {
      "cell_type": "markdown",
      "source": [
        "### General imports"
      ],
      "metadata": {
        "id": "2pPinSyTS_jW"
      }
    },
    {
      "cell_type": "code",
      "source": [
        "from typing import Union"
      ],
      "metadata": {
        "id": "qpjqPnoaS-Oa"
      },
      "execution_count": null,
      "outputs": []
    },
    {
      "cell_type": "markdown",
      "source": [
        "## Ejercicio N°1\n",
        "\n",
        "Implementar un algoritmo recursivo que, dada una lista ordenada y un elemento, devuelva el índice del\n",
        "elemento o -1 si no se encuentra. Utiliza recursividad de pila."
      ],
      "metadata": {
        "id": "BykjtdgFLmxU"
      }
    },
    {
      "cell_type": "code",
      "source": [
        "def binary_search(lista:list, value:int, left:int, right:int):\n",
        "  medio = (left + right) // 2\n",
        "\n",
        "  # Base Case\n",
        "\n",
        "  if medio > (len(lista) - 1) or right < left:\n",
        "    # Value not exists in list\n",
        "    return -1\n",
        "  elif lista[medio] == value:\n",
        "    # Found value\n",
        "    return medio\n",
        "\n",
        "  if value > lista[medio]:\n",
        "    # Carry out the recursion to right side\n",
        "    left = medio + 1\n",
        "  else:\n",
        "    # Carry out the recursion to left side\n",
        "    right = medio -1\n",
        "\n",
        "  return binary_search(lista, value, left, right)\n",
        "\n",
        "# \"Tests\"\n",
        "list_integer:list[int] = [4, 2, 1, 6, 7, 3, 8, 12, 5, 9, 13]\n",
        "list_integer.sort()\n",
        "print(f\"{list_integer=}\")\n",
        "\n",
        "int_to_find:int = 127\n",
        "\n",
        "left, right = 0, len(list_integer)\n",
        "index:Union[int, None] = binary_search(list_integer, int_to_find, left, right)\n",
        "\n",
        "print(f\"{index=}\")"
      ],
      "metadata": {
        "colab": {
          "base_uri": "https://localhost:8080/"
        },
        "id": "xQVvbZ8jMbGm",
        "outputId": "fc2b1078-9535-4e38-9762-59f728cd9c0d"
      },
      "execution_count": null,
      "outputs": [
        {
          "output_type": "stream",
          "name": "stdout",
          "text": [
            "list_integer=[1, 2, 3, 4, 5, 6, 7, 8, 9, 12, 13]\n",
            "index=-1\n"
          ]
        }
      ]
    },
    {
      "cell_type": "markdown",
      "source": [
        "### Test Using randoms values"
      ],
      "metadata": {
        "id": "eDMowg3zSOpS"
      }
    },
    {
      "cell_type": "code",
      "source": [
        "from random import randint as rdint\n",
        "\n",
        "max_int:int = 100\n",
        "max_len:int = 30\n",
        "count:int = 0\n",
        "\n",
        "list_integer:list[int] = []\n",
        "\n",
        "# Generate unique values in list\n",
        "while count < max_len:\n",
        "  rd_value:int = rdint(0, max_int)\n",
        "\n",
        "  if not rd_value in list_integer:\n",
        "    list_integer.append(rd_value)\n",
        "    count += 1\n",
        "\n",
        "list_integer.sort()\n",
        "print(f\"{list_integer=}\")\n",
        "\n",
        "int_to_find:int = rdint(0, max_int)\n",
        "print(f\"{int_to_find=}\")\n",
        "\n",
        "left, right = 0, len(list_integer)\n",
        "index:Union[int, None] = binary_search(list_integer, int_to_find, left, right)\n",
        "\n",
        "print(f\"{index=}\")"
      ],
      "metadata": {
        "colab": {
          "base_uri": "https://localhost:8080/"
        },
        "id": "3Y9AUqLcSffD",
        "outputId": "b453d483-df1c-4062-bb3d-aea2d041d27b"
      },
      "execution_count": null,
      "outputs": [
        {
          "output_type": "stream",
          "name": "stdout",
          "text": [
            "list_integer=[2, 4, 9, 10, 12, 13, 16, 28, 31, 33, 39, 41, 43, 49, 50, 57, 60, 62, 65, 69, 75, 78, 79, 82, 86, 88, 90, 97, 99, 100]\n",
            "int_to_find=72\n",
            "index=-1\n"
          ]
        }
      ]
    },
    {
      "cell_type": "markdown",
      "source": [
        "## Ejercicio N°4\n",
        "\n",
        "Calcular el n-ésimo número de Fibonacci usando recursividad de cola y recursividad de pila con\n",
        "memorización."
      ],
      "metadata": {
        "id": "1iBN048-MOkH"
      }
    },
    {
      "cell_type": "markdown",
      "source": [
        "### 1. Recursividad de Cola (Si no estoy mal)"
      ],
      "metadata": {
        "id": "zpjPEULbL5Cb"
      }
    },
    {
      "cell_type": "code",
      "execution_count": null,
      "metadata": {
        "colab": {
          "base_uri": "https://localhost:8080/"
        },
        "id": "T8r6vYJUIGoZ",
        "outputId": "24b697e1-e5b1-45f4-e22c-2d1252dce5f7"
      },
      "outputs": [
        {
          "output_type": "stream",
          "name": "stdout",
          "text": [
            "left=0 ------ right=1 ------- suma=[1]\n",
            "left=1 ------ right=1 ------- suma=[2]\n",
            "left=1 ------ right=2 ------- suma=[3]\n",
            "left=2 ------ right=3 ------- suma=[5]\n",
            "left=3 ------ right=5 ------- suma=[8]\n",
            "left=5 ------ right=8 ------- suma=[13]\n",
            "left=8 ------ right=13 ------- suma=[21]\n",
            "left=13 ------ right=21 ------- suma=[34]\n",
            "left=21 ------ right=34 ------- suma=[55]\n",
            "left=34 ------ right=55 ------- suma=[89]\n",
            "left=55 ------ right=89 ------- suma=[144]\n",
            "left=89 ------ right=144 ------- suma=[233]\n",
            "left=144 ------ right=233 ------- suma=[377]\n",
            "left=233 ------ right=377 ------- suma=[610]\n",
            "[610]\n"
          ]
        }
      ],
      "source": [
        "def fibonacci(n:int, left:int, right:int, suma:list[int]):\n",
        "\t# Too would be \"if not n in [0,1]\"\n",
        "\t# To avoid use the Return\n",
        "\tif not n in [0, 1]:\n",
        "\t\t# return\n",
        "\n",
        "\t\tsuma[0] = left + right\n",
        "\n",
        "\t\tprint(f'{left=} ------ {right=} ------- {suma=}')\n",
        "\n",
        "  \t# Like bubble sort\n",
        "\t\tleft, right = right, suma[0]\n",
        "\n",
        "\n",
        "\t\tfibonacci(n-1, left, right, suma)\n",
        "\n",
        "# \"Tests\"\n",
        "suma = [0]\n",
        "\n",
        "n, left, right = 15, 0, 1\n",
        "\n",
        "fibonacci(n, left, right, suma)\n",
        "\n",
        "print(suma)"
      ]
    },
    {
      "cell_type": "markdown",
      "source": [
        "### 2. Recursividad de Pila (Con Memorización)"
      ],
      "metadata": {
        "id": "PrrL8JQxzkav"
      }
    },
    {
      "cell_type": "code",
      "execution_count": null,
      "metadata": {
        "colab": {
          "base_uri": "https://localhost:8080/"
        },
        "outputId": "1c4eacef-7aa4-4c9f-ebbc-72a1f8a19571",
        "id": "zp77Gu2Zzkaz"
      },
      "outputs": [
        {
          "output_type": "stream",
          "name": "stdout",
          "text": [
            "{0: 0, 1: 1, 2: 1, 3: 2, 4: 3, 5: 5, 6: 8, 7: 13, 8: 21, 9: 34, 10: 55, 11: 89, 12: 144, 13: 233, 14: 377}\n",
            "fibo=610\n"
          ]
        }
      ],
      "source": [
        "def fibonacci_2(n:int, values:dict):\n",
        "\t# Base Case\n",
        "\tif n in [0, 1]:\n",
        "\t\treturn n\n",
        "\n",
        "\tleft, right = n-1, n-2\n",
        "\n",
        "\tif values.get(n-1):\n",
        "\t\tleft = values[n-1]\n",
        "\telse:\n",
        "\t\tvalues[n-1] = fibonacci_2(n-1, values)\n",
        "\t\tleft = values[n-1]\n",
        "\n",
        "\tif values.get(n-2):\n",
        "\t\tleft = values[n-2]\n",
        "\telse:\n",
        "\t\tvalues[n-2] = fibonacci_2(n-2, values)\n",
        "\t\tright = values[n-2]\n",
        "\n",
        " \t# Missing the n: x\n",
        "\treturn values[n-1] + values[n-2]\n",
        "\n",
        "\n",
        "# Tests\n",
        "\n",
        "dict_values:dict = {0: 0, 1: 1}\n",
        "\n",
        "fibo:int = fibonacci_2(15, dict_values)\n",
        "\n",
        "print(dict_values)\n",
        "print(f\"{fibo=}\")"
      ]
    }
  ]
}