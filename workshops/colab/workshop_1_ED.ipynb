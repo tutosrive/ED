{
  "nbformat": 4,
  "nbformat_minor": 0,
  "metadata": {
    "colab": {
      "provenance": [],
      "collapsed_sections": [
        "BctwhQSlvjrH",
        "2pPinSyTS_jW",
        "BykjtdgFLmxU",
        "eDMowg3zSOpS",
        "IoaZApTkQydo",
        "ESqwvBPRS2l4",
        "c8CwDiONTABg",
        "az64HFX7Xz0g",
        "1iBN048-MOkH",
        "zpjPEULbL5Cb"
      ],
      "authorship_tag": "ABX9TyO7jomABUKERYC0PUqnGFzk",
      "include_colab_link": true
    },
    "kernelspec": {
      "name": "python3",
      "display_name": "Python 3"
    },
    "language_info": {
      "name": "python"
    }
  },
  "cells": [
    {
      "cell_type": "markdown",
      "metadata": {
        "id": "view-in-github",
        "colab_type": "text"
      },
      "source": [
        "<a href=\"https://colab.research.google.com/github/tutosrive/ED/blob/from_colab/workshops/colab/workshop_1_ED.ipynb\" target=\"_parent\"><img src=\"https://colab.research.google.com/assets/colab-badge.svg\" alt=\"Open In Colab\"/></a>"
      ]
    },
    {
      "cell_type": "markdown",
      "source": [
        "# Taller N°1\n",
        "\n",
        "- Santiago Rivera Marin - 4to Semestre\n",
        "- Estructura de Datos"
      ],
      "metadata": {
        "id": "BctwhQSlvjrH"
      }
    },
    {
      "cell_type": "markdown",
      "source": [
        "### General imports"
      ],
      "metadata": {
        "id": "2pPinSyTS_jW"
      }
    },
    {
      "cell_type": "code",
      "source": [
        "from typing import Union"
      ],
      "metadata": {
        "id": "qpjqPnoaS-Oa"
      },
      "execution_count": 38,
      "outputs": []
    },
    {
      "cell_type": "markdown",
      "source": [
        "## Ejercicio N°1 - Binary Search (LIFO)\n",
        "\n",
        "Implementar un algoritmo recursivo que, dada una lista ordenada y un elemento, devuelva el índice del\n",
        "elemento o -1 si no se encuentra. Utiliza recursividad de pila."
      ],
      "metadata": {
        "id": "BykjtdgFLmxU"
      }
    },
    {
      "cell_type": "code",
      "source": [
        "def binary_search(lista:list, value:int, left:int, right:int):\n",
        "  medio = (left + right) // 2\n",
        "\n",
        "  # Base Case\n",
        "\n",
        "  if medio > (len(lista) - 1) or right < left:\n",
        "    # Value not exists in list\n",
        "    return -1\n",
        "  elif lista[medio] == value:\n",
        "    # Found value\n",
        "    return medio\n",
        "\n",
        "  if value > lista[medio]:\n",
        "    # Carry out the recursion to right side\n",
        "    left = medio + 1\n",
        "  else:\n",
        "    # Carry out the recursion to left side\n",
        "    right = medio -1\n",
        "\n",
        "  return binary_search(lista, value, left, right)\n",
        "\n",
        "# \"Tests\"\n",
        "list_integer:list[int] = [4, 2, 1, 6, 7, 3, 8, 12, 5, 9, 13]\n",
        "list_integer.sort()\n",
        "print(f\"{list_integer=}\")\n",
        "\n",
        "int_to_find:int = 127\n",
        "\n",
        "left, right = 0, len(list_integer)\n",
        "index:Union[int, None] = binary_search(list_integer, int_to_find, left, right)\n",
        "\n",
        "print(f\"{index=}\")"
      ],
      "metadata": {
        "colab": {
          "base_uri": "https://localhost:8080/"
        },
        "id": "xQVvbZ8jMbGm",
        "outputId": "2304b21c-7299-444a-ff2f-21989668af6b"
      },
      "execution_count": 39,
      "outputs": [
        {
          "output_type": "stream",
          "name": "stdout",
          "text": [
            "list_integer=[1, 2, 3, 4, 5, 6, 7, 8, 9, 12, 13]\n",
            "index=-1\n"
          ]
        }
      ]
    },
    {
      "cell_type": "markdown",
      "source": [
        "### Test Using randoms values"
      ],
      "metadata": {
        "id": "eDMowg3zSOpS"
      }
    },
    {
      "cell_type": "code",
      "source": [
        "from random import randint as rdint\n",
        "\n",
        "max_int:int = 100\n",
        "max_len:int = 30\n",
        "count:int = 0\n",
        "\n",
        "list_integer:list[int] = []\n",
        "\n",
        "# Generate unique values in list\n",
        "while count < max_len:\n",
        "  rd_value:int = rdint(0, max_int)\n",
        "\n",
        "  if not rd_value in list_integer:\n",
        "    list_integer.append(rd_value)\n",
        "    count += 1\n",
        "\n",
        "list_integer.sort()\n",
        "print(f\"{list_integer=}\")\n",
        "\n",
        "int_to_find:int = rdint(0, max_int)\n",
        "print(f\"{int_to_find=}\")\n",
        "\n",
        "left, right = 0, len(list_integer)\n",
        "index:Union[int, None] = binary_search(list_integer, int_to_find, left, right)\n",
        "\n",
        "print(f\"{index=}\")"
      ],
      "metadata": {
        "colab": {
          "base_uri": "https://localhost:8080/"
        },
        "id": "3Y9AUqLcSffD",
        "outputId": "54af05ee-bb48-4f3b-c310-f0e8cde6586b"
      },
      "execution_count": 40,
      "outputs": [
        {
          "output_type": "stream",
          "name": "stdout",
          "text": [
            "list_integer=[1, 6, 7, 13, 16, 17, 21, 23, 24, 35, 36, 38, 46, 48, 49, 52, 55, 56, 57, 63, 64, 65, 68, 70, 72, 73, 88, 93, 95, 97]\n",
            "int_to_find=42\n",
            "index=-1\n"
          ]
        }
      ]
    },
    {
      "cell_type": "markdown",
      "source": [
        "## Ejercicio N°2 - Factorial (LIFO - FIFO)\n",
        "\n",
        "Implementar el cálculo factorial con recursividad de pila y de cola. Analizar la diferencia en consumo de\n",
        "memoria."
      ],
      "metadata": {
        "id": "IoaZApTkQydo"
      }
    },
    {
      "cell_type": "markdown",
      "source": [
        "### Fatcorial por Recursividad de Pila"
      ],
      "metadata": {
        "id": "ESqwvBPRS2l4"
      }
    },
    {
      "cell_type": "code",
      "source": [
        "# If n == 5\n",
        "# Factorial(n) = 5x4x3x2x1 = 120\n",
        "# Base Case: n == 2 (Any value by 1 is the same value)\n",
        "\n",
        "def factorial_pila(n:int):\n",
        "  if n < 0:\n",
        "    # Not missing the joker...\n",
        "    return -1\n",
        "  elif n == 0:\n",
        "    return 0\n",
        "  elif n in [2, 1]:\n",
        "    return n\n",
        "\n",
        "  return n * factorial_pila(n-1)\n",
        "\n",
        "# Tests\n",
        "\n",
        "# n:int = int(input(\"What factorial you want to see?: \"))\n",
        "n:int = -10\n",
        "\n",
        "fact_pila:int = factorial_pila(n)\n",
        "print(f\"The factorial of {n} (Using LIFO), is: {fact_pila}\")"
      ],
      "metadata": {
        "colab": {
          "base_uri": "https://localhost:8080/"
        },
        "outputId": "00aa5161-6f6c-4c14-acab-c0646c52414c",
        "id": "PguRQWlyQydq"
      },
      "execution_count": 41,
      "outputs": [
        {
          "output_type": "stream",
          "name": "stdout",
          "text": [
            "The factorial of -10 (Using LIFO), is: -1\n"
          ]
        }
      ]
    },
    {
      "cell_type": "markdown",
      "source": [
        "### Factorial por Recursividad de Cola"
      ],
      "metadata": {
        "id": "c8CwDiONTABg"
      }
    },
    {
      "cell_type": "code",
      "source": [
        "# If n == 5\n",
        "# Factorial(n) = 5x4x3x2x1 = 120\n",
        "# Base Case: n == 2 (Any value by 1 is the same value)\n",
        "\n",
        "def factorial_cola(n:int, array:list[int]):\n",
        "  if n < 0:\n",
        "    # Not missing the joker...\n",
        "    array[0] = -1\n",
        "  elif n == 0:\n",
        "    array[0] = 0\n",
        "  elif n > 1:\n",
        "    # Only if array[0] from begin is 1\n",
        "    # To can get the product (array[0] * n)...\n",
        "    array[0] *= n\n",
        "    factorial_cola(n-1, array)\n",
        "\n",
        "# Tests\n",
        "\n",
        "# n:int = int(input(\"What factorial you want to see?: \"))\n",
        "n:int = 10\n",
        "\n",
        "fact_cola:list[int] = [1]\n",
        "\n",
        "factorial_cola(n, fact_cola)\n",
        "print(f\"The factorial of {n} (Using FIFO), is: {fact_cola[0]}\")"
      ],
      "metadata": {
        "colab": {
          "base_uri": "https://localhost:8080/"
        },
        "id": "J5HDYthtTD1G",
        "outputId": "a60dae31-85f8-4bd9-ce05-2a9675b87dd1"
      },
      "execution_count": 42,
      "outputs": [
        {
          "output_type": "stream",
          "name": "stdout",
          "text": [
            "The factorial of 10 (Using FIFO), is: 3628800\n"
          ]
        }
      ]
    },
    {
      "cell_type": "markdown",
      "source": [
        "## Ejercicio N°3 - Additions of elements list (FIFO)\n",
        "\n",
        "Implementar la suma de los elementos de una lista usando recursividad de cola."
      ],
      "metadata": {
        "id": "az64HFX7Xz0g"
      }
    },
    {
      "cell_type": "code",
      "source": [
        "# Base Case: When n reaches len(list)\n",
        "\n",
        "def list_sum(index:int, array:list[int], sum:list[int]) -> None:\n",
        "  if index >= 0 and index < len(array):\n",
        "    sum[0] += array[index]\n",
        "    list_sum(index+1, array, sum)\n",
        "\n",
        "# Tests\n",
        "\n",
        "sum:list[int] = [0]\n",
        "\n",
        "num_array:list[int] = [0, 1, 2, 3, 4]\n",
        "i:int = 0\n",
        "\n",
        "list_sum(i, num_array, sum)\n",
        "\n",
        "print(f\"The addition of all elements is (FIFO): {sum[0]}\")"
      ],
      "metadata": {
        "colab": {
          "base_uri": "https://localhost:8080/"
        },
        "id": "wrIUQhUKc2hs",
        "outputId": "b411e4a7-0ad8-4c94-d828-574c29383441"
      },
      "execution_count": 43,
      "outputs": [
        {
          "output_type": "stream",
          "name": "stdout",
          "text": [
            "The addition of all elements is (FIFO): 10\n"
          ]
        }
      ]
    },
    {
      "cell_type": "markdown",
      "source": [
        "## Ejercicio N°4 - Fibonacci (LIFO - FIFO)\n",
        "\n",
        "Calcular el n-ésimo número de Fibonacci usando recursividad de cola y recursividad de pila con\n",
        "memorización."
      ],
      "metadata": {
        "id": "1iBN048-MOkH"
      }
    },
    {
      "cell_type": "markdown",
      "source": [
        "### 1. Recursividad de Cola (Si no estoy mal)"
      ],
      "metadata": {
        "id": "zpjPEULbL5Cb"
      }
    },
    {
      "cell_type": "code",
      "execution_count": 44,
      "metadata": {
        "colab": {
          "base_uri": "https://localhost:8080/"
        },
        "id": "T8r6vYJUIGoZ",
        "outputId": "7f2b6b18-a42d-4fe9-8c64-261e12507df3"
      },
      "outputs": [
        {
          "output_type": "stream",
          "name": "stdout",
          "text": [
            "left=0 ------ right=1 ------- suma=[1]\n",
            "left=1 ------ right=1 ------- suma=[2]\n",
            "left=1 ------ right=2 ------- suma=[3]\n",
            "left=2 ------ right=3 ------- suma=[5]\n",
            "left=3 ------ right=5 ------- suma=[8]\n",
            "left=5 ------ right=8 ------- suma=[13]\n",
            "left=8 ------ right=13 ------- suma=[21]\n",
            "left=13 ------ right=21 ------- suma=[34]\n",
            "left=21 ------ right=34 ------- suma=[55]\n",
            "left=34 ------ right=55 ------- suma=[89]\n",
            "left=55 ------ right=89 ------- suma=[144]\n",
            "left=89 ------ right=144 ------- suma=[233]\n",
            "left=144 ------ right=233 ------- suma=[377]\n",
            "left=233 ------ right=377 ------- suma=[610]\n",
            "The Fibonacci Serie for 15 is: 610\n"
          ]
        }
      ],
      "source": [
        "def fibonacci(n:int, suma:list[int] = [0], left:int = 0, right:int = 1):\n",
        "\t# To avoid use the Return\n",
        "\tif not n in [0, 1]:\n",
        "\t\tsuma[0] = left + right\n",
        "\n",
        "\t\tprint(f'{left=} ------ {right=} ------- {suma=}')\n",
        "\n",
        "  \t# Like bubble sort\n",
        "\t\tleft, right = right, suma[0]\n",
        "\t\tfibonacci(n-1, suma, left, right)\n",
        "\n",
        "# \"Tests\"\n",
        "# left, right = 0, 1\n",
        "\n",
        "suma = [0]\n",
        "n:int = 15\n",
        "\n",
        "fibonacci(n, suma)\n",
        "\n",
        "print(f\"The Fibonacci Serie for {n} is: {suma[0]}\")"
      ]
    },
    {
      "cell_type": "markdown",
      "source": [
        "### 2. Recursividad de Pila (Con Memorización)"
      ],
      "metadata": {
        "id": "PrrL8JQxzkav"
      }
    },
    {
      "cell_type": "code",
      "execution_count": 45,
      "metadata": {
        "colab": {
          "base_uri": "https://localhost:8080/"
        },
        "outputId": "7c480947-d840-40f2-fd13-ad9ca1c60028",
        "id": "zp77Gu2Zzkaz"
      },
      "outputs": [
        {
          "output_type": "stream",
          "name": "stdout",
          "text": [
            "{0: 0, 1: 1, 2: 1, 3: 2, 4: 3, 5: 5, 6: 8, 7: 13, 8: 21, 9: 34, 10: 55, 11: 89, 12: 144, 13: 233, 14: 377}\n",
            "The Fibonacci Serie for 15 is: 610\n"
          ]
        }
      ],
      "source": [
        "def fibonacci_2(n:int, values:dict):\n",
        "\t# Base Case\n",
        "\tif n in [0, 1]:\n",
        "\t\treturn n\n",
        "\n",
        "\tleft, right = n-1, n-2\n",
        "\n",
        "\t# Case n-1 values already!\n",
        "\tif values.get(left):\n",
        "\t\tleft = values[left]\n",
        "\telse:\n",
        "\t\tvalues[left] = fibonacci_2(left, values)\n",
        "\t\tleft = values[left]\n",
        "\n",
        "\t# Case n-2 values already!\n",
        "\tif values.get(right):\n",
        "\t\tleft = values[right]\n",
        "\telse:\n",
        "\t\tvalues[right] = fibonacci_2(right, values)\n",
        "\t\tright = values[right]\n",
        "\n",
        " \t# Missing the n: x\n",
        "\treturn values[n-1] + values[n-2]\n",
        "\n",
        "\n",
        "# Tests\n",
        "\n",
        "dict_values:dict = {0: 0, 1: 1}\n",
        "n:int = 15\n",
        "\n",
        "fibo:int = fibonacci_2(n, dict_values)\n",
        "\n",
        "print(dict_values)\n",
        "print(f\"The Fibonacci Serie for {n} is: {fibo}\")"
      ]
    },
    {
      "cell_type": "markdown",
      "source": [
        "## Ejercicio N°5 - 😞 - Caminos Con Obstáculos\n",
        "\n",
        "Contar el número de caminos posibles desde la esquina superior izquierda a la inferior derecha de un\n",
        "tablero con obstáculos. El robot puede moverse en todas las direcciones (incluyendo las diagonales), la\n",
        "prioridad será la menor cantidad de obstáculos lineales en el sentido elegido hasta el borde del tablero.\n",
        "Evitar caminos bloqueados y usar backtracking recursivo."
      ],
      "metadata": {
        "id": "S-9lMIb2t_21"
      }
    }
  ]
}