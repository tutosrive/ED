{
  "nbformat": 4,
  "nbformat_minor": 0,
  "metadata": {
    "colab": {
      "provenance": [],
      "include_colab_link": true
    },
    "kernelspec": {
      "name": "python3",
      "display_name": "Python 3"
    },
    "language_info": {
      "name": "python"
    }
  },
  "cells": [
    {
      "cell_type": "markdown",
      "metadata": {
        "id": "view-in-github",
        "colab_type": "text"
      },
      "source": [
        "<a href=\"https://colab.research.google.com/github/tutosrive/ED/blob/from_colab/src/explanations/teacher/code/BST_Jue_Vie.ipynb\" target=\"_parent\"><img src=\"https://colab.research.google.com/assets/colab-badge.svg\" alt=\"Open In Colab\"/></a>"
      ]
    },
    {
      "cell_type": "markdown",
      "source": [
        "Create a **BstNode** to build the BST"
      ],
      "metadata": {
        "id": "hZfEsA99sKss"
      }
    },
    {
      "cell_type": "code",
      "source": [
        "class BstNode:\n",
        "  def __init__(self, value):\n",
        "    self.value = value\n",
        "    self.left = None\n",
        "    self.right = None"
      ],
      "metadata": {
        "id": "W_yJobhqsjkI"
      },
      "execution_count": 1,
      "outputs": []
    },
    {
      "cell_type": "markdown",
      "source": [
        "Create the **BinarySearchTree** class to store the data for each node."
      ],
      "metadata": {
        "id": "_B_hqm7wuBPf"
      }
    },
    {
      "cell_type": "code",
      "source": [
        "class BinarySearchTree:\n",
        "\n",
        "  def __init__(self):\n",
        "    self.root = None\n",
        "\n",
        "  def insert(self, value):\n",
        "    new_node = BstNode(value)\n",
        "    if(self.root is None):\n",
        "      self.root = new_node\n",
        "      return True\n",
        "    else:\n",
        "      self._insert(self.root, new_node)\n",
        "\n",
        "  def _insert(self, current_node, new_node):\n",
        "    if(current_node.value == new_node.value):\n",
        "      print(\"The value \" , new_node.value, \" already exists.\")\n",
        "      return False\n",
        "    else:\n",
        "      if(new_node.value < current_node.value):\n",
        "        if(current_node.left is None):\n",
        "          current_node.left = new_node\n",
        "          return True\n",
        "        else:\n",
        "          self._insert(current_node.left, new_node)\n",
        "      else:\n",
        "        if(current_node.right is None):\n",
        "          current_node.right = new_node\n",
        "        else:\n",
        "          self._insert(current_node.right, new_node)\n",
        "\n",
        "  def pre_order(self, output = []):\n",
        "    if(self.root is None):\n",
        "      print(\"The tree is empty.\")\n",
        "    else:\n",
        "      self._pre_order(self.root, output)\n",
        "      return output\n",
        "\n",
        "  # (root, left, right)\n",
        "  def _pre_order(self, current_node, output):\n",
        "    if(current_node is not None):\n",
        "      output.append(str(current_node.value))\n",
        "      self._pre_order(current_node.left, output)\n",
        "      self._pre_order(current_node.right, output)\n",
        "\n",
        "\n",
        "  def in_order(self, output = []):\n",
        "    if(self.root is None):\n",
        "      print(\"The tree is empty.\")\n",
        "    else:\n",
        "      self._in_order(self.root, output)\n",
        "      return output\n",
        "\n",
        "  # (left, root, right)\n",
        "  def _in_order(self, current_node, output):\n",
        "    if(current_node is not None):\n",
        "      self._in_order(current_node.left, output)\n",
        "      output.append(str(current_node.value))\n",
        "      self._in_order(current_node.right, output)\n",
        "\n",
        "\n",
        "\n",
        "  def pos_order(self, output = []):\n",
        "    if(self.root is None):\n",
        "      print(\"The tree is empty.\")\n",
        "    else:\n",
        "      self._pos_order(self.root, output)\n",
        "      return output\n",
        "\n",
        "  # (left, right, root)\n",
        "  def _pos_order(self, current_node, output):\n",
        "    if(current_node is not None):\n",
        "      self._pos_order(current_node.left, output)\n",
        "\n",
        "      self._pos_order(current_node.right, output)\n",
        "      output.append(str(current_node.value))"
      ],
      "metadata": {
        "id": "dOci0KVNuRXV"
      },
      "execution_count": 26,
      "outputs": []
    },
    {
      "cell_type": "markdown",
      "source": [
        "Test the above code with a list of numbers being inserted into the BST structure."
      ],
      "metadata": {
        "id": "MUtejbAmwhLV"
      }
    },
    {
      "cell_type": "code",
      "source": [
        "\n",
        "if __name__ == \"__main__\":\n",
        "  bst = BinarySearchTree()\n",
        "  values = [45, 89, 12, 7, 63, 91, 5, 34, 80, 29, 58, 1, 77, 23, 99, 16, 42, 68, 3, 51]\n",
        "\n",
        "  for v in values:\n",
        "      bst.insert(v)\n",
        "\n",
        "  pre_order = bst.pre_order()\n",
        "  in_order = bst.in_order()\n",
        "  pos_order = bst.pos_order()\n",
        "\n",
        "  print(f\"Pre-Order: {pre_order}\")\n",
        "\n",
        "  print(f\"In-Order: {in_order}\")\n",
        "\n",
        "  print(f\"Pos-Order: {pos_order}\")"
      ],
      "metadata": {
        "colab": {
          "base_uri": "https://localhost:8080/"
        },
        "id": "Ye3EMa09zsdR",
        "outputId": "e52aff56-efde-4f89-fbb8-5656e4660b40"
      },
      "execution_count": 27,
      "outputs": [
        {
          "output_type": "stream",
          "name": "stdout",
          "text": [
            "Pre-Order: ['45', '12', '7', '5', '1', '3', '34', '29', '23', '16', '42', '89', '63', '58', '51', '80', '77', '68', '91', '99']\n",
            "In-Order: ['1', '3', '5', '7', '12', '16', '23', '29', '34', '42', '45', '51', '58', '63', '68', '77', '80', '89', '91', '99']\n",
            "Pos-Order: ['3', '1', '5', '7', '16', '23', '29', '42', '34', '12', '51', '58', '68', '77', '80', '63', '99', '91', '89', '45']\n"
          ]
        }
      ]
    },
    {
      "cell_type": "code",
      "source": [],
      "metadata": {
        "id": "wZOcHspb0S60"
      },
      "execution_count": null,
      "outputs": []
    }
  ]
}